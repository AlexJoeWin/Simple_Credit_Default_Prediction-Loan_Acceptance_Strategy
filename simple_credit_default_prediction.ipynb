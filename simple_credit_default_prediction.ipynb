{
 "cells": [
  {
   "cell_type": "code",
   "execution_count": 78,
   "id": "cfde6046-bd12-436d-b3c2-cdde463d7a5c",
   "metadata": {},
   "outputs": [],
   "source": [
    "#----------------------------------------------------------------------------------------------------------------------------------\n",
    "# training of a boosting model on loan data to predict target => loan status (1 <> 0): \n",
    "# 0: non-default\n",
    "# 1: credit default\n",
    "\n",
    "# data has already been cleaned and preprocessed\n",
    "#----------------------------------------------------------------------------------------------------------------------------------"
   ]
  },
  {
   "cell_type": "code",
   "execution_count": 80,
   "id": "9dc046aa-6280-4b17-8564-f77d97757bd1",
   "metadata": {},
   "outputs": [],
   "source": [
    "# importing all required packages / modules\n",
    "import pandas as pd\n",
    "import numpy as np\n",
    "import matplotlib.pyplot as plt\n",
    "import seaborn as sns\n",
    "import xgboost as xgb\n",
    "from sklearn.model_selection import train_test_split\n",
    "from sklearn.metrics import classification_report\n",
    "from sklearn.calibration import calibration_curve\n",
    "from sklearn.metrics import brier_score_loss"
   ]
  },
  {
   "cell_type": "code",
   "execution_count": 159,
   "id": "fb609941-1b09-49df-8c31-00b5a8a3bb26",
   "metadata": {},
   "outputs": [
    {
     "name": "stdout",
     "output_type": "stream",
     "text": [
      "loan_status\n",
      "0    0.78061\n",
      "1    0.21939\n",
      "Name: proportion, dtype: float64\n"
     ]
    },
    {
     "data": {
      "text/html": [
       "<div>\n",
       "<style scoped>\n",
       "    .dataframe tbody tr th:only-of-type {\n",
       "        vertical-align: middle;\n",
       "    }\n",
       "\n",
       "    .dataframe tbody tr th {\n",
       "        vertical-align: top;\n",
       "    }\n",
       "\n",
       "    .dataframe thead th {\n",
       "        text-align: right;\n",
       "    }\n",
       "</style>\n",
       "<table border=\"1\" class=\"dataframe\">\n",
       "  <thead>\n",
       "    <tr style=\"text-align: right;\">\n",
       "      <th></th>\n",
       "      <th>person_age</th>\n",
       "      <th>person_income</th>\n",
       "      <th>person_emp_length</th>\n",
       "      <th>loan_amnt</th>\n",
       "      <th>loan_int_rate</th>\n",
       "      <th>loan_status</th>\n",
       "      <th>loan_percent_income</th>\n",
       "      <th>cb_person_cred_hist_length</th>\n",
       "      <th>person_home_ownership_MORTGAGE</th>\n",
       "      <th>person_home_ownership_OTHER</th>\n",
       "      <th>...</th>\n",
       "      <th>loan_intent_VENTURE</th>\n",
       "      <th>loan_grade_A</th>\n",
       "      <th>loan_grade_B</th>\n",
       "      <th>loan_grade_C</th>\n",
       "      <th>loan_grade_D</th>\n",
       "      <th>loan_grade_E</th>\n",
       "      <th>loan_grade_F</th>\n",
       "      <th>loan_grade_G</th>\n",
       "      <th>cb_person_default_on_file_N</th>\n",
       "      <th>cb_person_default_on_file_Y</th>\n",
       "    </tr>\n",
       "  </thead>\n",
       "  <tbody>\n",
       "    <tr>\n",
       "      <th>0</th>\n",
       "      <td>21</td>\n",
       "      <td>9600</td>\n",
       "      <td>5</td>\n",
       "      <td>1000</td>\n",
       "      <td>11.14</td>\n",
       "      <td>0</td>\n",
       "      <td>0.10</td>\n",
       "      <td>2</td>\n",
       "      <td>0</td>\n",
       "      <td>0</td>\n",
       "      <td>...</td>\n",
       "      <td>0</td>\n",
       "      <td>0</td>\n",
       "      <td>1</td>\n",
       "      <td>0</td>\n",
       "      <td>0</td>\n",
       "      <td>0</td>\n",
       "      <td>0</td>\n",
       "      <td>0</td>\n",
       "      <td>1</td>\n",
       "      <td>0</td>\n",
       "    </tr>\n",
       "    <tr>\n",
       "      <th>1</th>\n",
       "      <td>25</td>\n",
       "      <td>9600</td>\n",
       "      <td>1</td>\n",
       "      <td>5500</td>\n",
       "      <td>12.87</td>\n",
       "      <td>1</td>\n",
       "      <td>0.57</td>\n",
       "      <td>3</td>\n",
       "      <td>1</td>\n",
       "      <td>0</td>\n",
       "      <td>...</td>\n",
       "      <td>0</td>\n",
       "      <td>0</td>\n",
       "      <td>0</td>\n",
       "      <td>1</td>\n",
       "      <td>0</td>\n",
       "      <td>0</td>\n",
       "      <td>0</td>\n",
       "      <td>0</td>\n",
       "      <td>1</td>\n",
       "      <td>0</td>\n",
       "    </tr>\n",
       "    <tr>\n",
       "      <th>2</th>\n",
       "      <td>23</td>\n",
       "      <td>65500</td>\n",
       "      <td>4</td>\n",
       "      <td>35000</td>\n",
       "      <td>15.23</td>\n",
       "      <td>1</td>\n",
       "      <td>0.53</td>\n",
       "      <td>2</td>\n",
       "      <td>0</td>\n",
       "      <td>0</td>\n",
       "      <td>...</td>\n",
       "      <td>0</td>\n",
       "      <td>0</td>\n",
       "      <td>0</td>\n",
       "      <td>1</td>\n",
       "      <td>0</td>\n",
       "      <td>0</td>\n",
       "      <td>0</td>\n",
       "      <td>0</td>\n",
       "      <td>1</td>\n",
       "      <td>0</td>\n",
       "    </tr>\n",
       "    <tr>\n",
       "      <th>3</th>\n",
       "      <td>24</td>\n",
       "      <td>54400</td>\n",
       "      <td>8</td>\n",
       "      <td>35000</td>\n",
       "      <td>14.27</td>\n",
       "      <td>1</td>\n",
       "      <td>0.55</td>\n",
       "      <td>4</td>\n",
       "      <td>0</td>\n",
       "      <td>0</td>\n",
       "      <td>...</td>\n",
       "      <td>0</td>\n",
       "      <td>0</td>\n",
       "      <td>0</td>\n",
       "      <td>1</td>\n",
       "      <td>0</td>\n",
       "      <td>0</td>\n",
       "      <td>0</td>\n",
       "      <td>0</td>\n",
       "      <td>0</td>\n",
       "      <td>1</td>\n",
       "    </tr>\n",
       "    <tr>\n",
       "      <th>4</th>\n",
       "      <td>21</td>\n",
       "      <td>9900</td>\n",
       "      <td>2</td>\n",
       "      <td>2500</td>\n",
       "      <td>7.14</td>\n",
       "      <td>1</td>\n",
       "      <td>0.25</td>\n",
       "      <td>2</td>\n",
       "      <td>0</td>\n",
       "      <td>0</td>\n",
       "      <td>...</td>\n",
       "      <td>1</td>\n",
       "      <td>1</td>\n",
       "      <td>0</td>\n",
       "      <td>0</td>\n",
       "      <td>0</td>\n",
       "      <td>0</td>\n",
       "      <td>0</td>\n",
       "      <td>0</td>\n",
       "      <td>1</td>\n",
       "      <td>0</td>\n",
       "    </tr>\n",
       "  </tbody>\n",
       "</table>\n",
       "<p>5 rows × 27 columns</p>\n",
       "</div>"
      ],
      "text/plain": [
       "   person_age  person_income  person_emp_length  loan_amnt  loan_int_rate  \\\n",
       "0          21           9600                  5       1000          11.14   \n",
       "1          25           9600                  1       5500          12.87   \n",
       "2          23          65500                  4      35000          15.23   \n",
       "3          24          54400                  8      35000          14.27   \n",
       "4          21           9900                  2       2500           7.14   \n",
       "\n",
       "   loan_status  loan_percent_income  cb_person_cred_hist_length  \\\n",
       "0            0                 0.10                           2   \n",
       "1            1                 0.57                           3   \n",
       "2            1                 0.53                           2   \n",
       "3            1                 0.55                           4   \n",
       "4            1                 0.25                           2   \n",
       "\n",
       "   person_home_ownership_MORTGAGE  person_home_ownership_OTHER  ...  \\\n",
       "0                               0                            0  ...   \n",
       "1                               1                            0  ...   \n",
       "2                               0                            0  ...   \n",
       "3                               0                            0  ...   \n",
       "4                               0                            0  ...   \n",
       "\n",
       "   loan_intent_VENTURE  loan_grade_A  loan_grade_B  loan_grade_C  \\\n",
       "0                    0             0             1             0   \n",
       "1                    0             0             0             1   \n",
       "2                    0             0             0             1   \n",
       "3                    0             0             0             1   \n",
       "4                    1             1             0             0   \n",
       "\n",
       "   loan_grade_D  loan_grade_E  loan_grade_F  loan_grade_G  \\\n",
       "0             0             0             0             0   \n",
       "1             0             0             0             0   \n",
       "2             0             0             0             0   \n",
       "3             0             0             0             0   \n",
       "4             0             0             0             0   \n",
       "\n",
       "   cb_person_default_on_file_N  cb_person_default_on_file_Y  \n",
       "0                            1                            0  \n",
       "1                            1                            0  \n",
       "2                            1                            0  \n",
       "3                            0                            1  \n",
       "4                            1                            0  \n",
       "\n",
       "[5 rows x 27 columns]"
      ]
     },
     "execution_count": 159,
     "metadata": {},
     "output_type": "execute_result"
    }
   ],
   "source": [
    "# load data\n",
    "data=pd.read_csv(\"cr_loan_preprocessed.csv\")\n",
    "print(data[\"loan_status\"].value_counts(normalize=True))\n",
    "data.head()"
   ]
  },
  {
   "cell_type": "code",
   "execution_count": 83,
   "id": "3ddb6c2a-404d-41c1-8ea1-fbf1fe71ceed",
   "metadata": {},
   "outputs": [],
   "source": [
    "# defining X,y and splitting into training and test data\n",
    "X=data.drop(\"loan_status\",axis=1)\n",
    "y=data[\"loan_status\"]\n",
    "y.value_counts()\n",
    "\n",
    "X_train, X_test, y_train, y_test=train_test_split(X,y,stratify=y,random_state=87)"
   ]
  },
  {
   "cell_type": "code",
   "execution_count": 152,
   "id": "10bb30ba-140c-41f3-af31-58b2526958c8",
   "metadata": {},
   "outputs": [
    {
     "name": "stdout",
     "output_type": "stream",
     "text": [
      "class order in probabilities array: [0 1]\n"
     ]
    }
   ],
   "source": [
    "# training model and predict probabilities and target values\n",
    "clf_gbt = xgb.XGBClassifier(n_estimators=60).fit(X_train, y_train)\n",
    "gbt_proba = clf_gbt.predict_proba(X_test)\n",
    "print(f\"class order in probabilities array: {clf_gbt.classes_}\")\n",
    "gbt_preds = clf_gbt.predict(X_test)"
   ]
  },
  {
   "cell_type": "code",
   "execution_count": 153,
   "id": "c14a199a-eb60-44be-baf8-1b3f59244ad1",
   "metadata": {},
   "outputs": [
    {
     "name": "stdout",
     "output_type": "stream",
     "text": [
      "Model is accepted: Macro Avg F1 Score -> 0.90.\n"
     ]
    }
   ],
   "source": [
    "# model evalutaion\n",
    "score=classification_report(y_test, gbt_preds, target_names=['Non-Default', 'Default'],output_dict=True)\n",
    "if score[\"macro avg\"][\"f1-score\"] > 0.85:\n",
    "    print(f\"Model is accepted: Macro Avg F1 Score -> {score[\"macro avg\"][\"f1-score\"]:.2f}.\")\n",
    "else:\n",
    "    print(f\"Model is not accepted: Macro Avg F1 Score -> {score[\"macro avg\"][\"f1-score\"]:.2f}.\")"
   ]
  },
  {
   "cell_type": "code",
   "execution_count": 154,
   "id": "31cc484d-2469-44d7-8685-1ca793da8e2a",
   "metadata": {},
   "outputs": [
    {
     "data": {
      "image/png": "[encoded data removed]",
      "text/plain": [
       "<Figure size 640x480 with 1 Axes>"
      ]
     },
     "metadata": {},
     "output_type": "display_data"
    }
   ],
   "source": [
    "# setting up a calibration curve to further assess model performance\n",
    "prob_true, prob_pred = calibration_curve(y_test, gbt_proba[:,1], n_bins=10)\n",
    "plt.plot(prob_pred, prob_true, marker='o')\n",
    "plt.plot([0, 1], [0, 1], 'k--')\n",
    "plt.xlabel('Mean Predicted Probability')\n",
    "plt.ylabel('Fraction of Defaults')\n",
    "plt.grid(True)\n",
    "plt.xticks([0,0.1,0.2,0.3,0.4,0.5,0.6,0.7,0.8,0.9,1])\n",
    "plt.show()"
   ]
  },
  {
   "cell_type": "code",
   "execution_count": 168,
   "id": "640a4de0-3bf3-4db6-9050-4fc1db50b8c1",
   "metadata": {},
   "outputs": [
    {
     "name": "stdout",
     "output_type": "stream",
     "text": [
      "Calibration is accepted.\n"
     ]
    }
   ],
   "source": [
    "if brier_score_loss(y_test, gbt_proba[:,1]) < 0.1:\n",
    "    print(\"Calibration is accepted.\")"
   ]
  },
  {
   "cell_type": "code",
   "execution_count": 94,
   "id": "64489d0c-1135-4bed-8df8-0af4b60ec5e8",
   "metadata": {},
   "outputs": [],
   "source": [
    "# calculating expected loss based on predicted probabilities\n",
    "portfolio = pd.DataFrame({\n",
    "    \"default_prob\": gbt_proba[:, 1],\n",
    "    \"loan_amount\": X_test[\"loan_amnt\"].values,\n",
    "    \"loss_given_default\": np.repeat(0.2,len(X_test))\n",
    "})\n",
    "portfolio.head()"
   ]
  },
  {
   "cell_type": "code",
   "execution_count": 163,
   "id": "7693b712-5782-4e32-ab82-3e57b00acbf0",
   "metadata": {},
   "outputs": [
    {
     "name": "stdout",
     "output_type": "stream",
     "text": [
      "Expected loss: 3.46 million €.\n"
     ]
    }
   ],
   "source": [
    "portfolio[\"expected_loss\"] = portfolio[\"default_prob\"] * portfolio[\"loan_amount\"] * portfolio[\"loss_given_default\"]\n",
    "print(f\"Expected loss: {np.sum(portfolio[\"expected_loss\"])/1000000:.2f} million €.\")"
   ]
  },
  {
   "cell_type": "code",
   "execution_count": 179,
   "id": "a19fbf89-9779-49ca-9cb2-12e12379562e",
   "metadata": {},
   "outputs": [
    {
     "data": {
      "text/html": [
       "<div>\n",
       "<style scoped>\n",
       "    .dataframe tbody tr th:only-of-type {\n",
       "        vertical-align: middle;\n",
       "    }\n",
       "\n",
       "    .dataframe tbody tr th {\n",
       "        vertical-align: top;\n",
       "    }\n",
       "\n",
       "    .dataframe thead th {\n",
       "        text-align: right;\n",
       "    }\n",
       "</style>\n",
       "<table border=\"1\" class=\"dataframe\">\n",
       "  <thead>\n",
       "    <tr style=\"text-align: right;\">\n",
       "      <th></th>\n",
       "      <th>acceptance_rates</th>\n",
       "      <th>thresholds</th>\n",
       "      <th>bad_rates</th>\n",
       "      <th>number_accepted_loans</th>\n",
       "      <th>average_loan_amnt</th>\n",
       "      <th>total_value</th>\n",
       "    </tr>\n",
       "  </thead>\n",
       "  <tbody>\n",
       "    <tr>\n",
       "      <th>8</th>\n",
       "      <td>0.90</td>\n",
       "      <td>0.98</td>\n",
       "      <td>0.130389</td>\n",
       "      <td>26513.10</td>\n",
       "      <td>9583.600937</td>\n",
       "      <td>187829764.0</td>\n",
       "    </tr>\n",
       "    <tr>\n",
       "      <th>7</th>\n",
       "      <td>0.85</td>\n",
       "      <td>0.85</td>\n",
       "      <td>0.082122</td>\n",
       "      <td>25040.15</td>\n",
       "      <td>9583.600937</td>\n",
       "      <td>200560506.0</td>\n",
       "    </tr>\n",
       "    <tr>\n",
       "      <th>6</th>\n",
       "      <td>0.80</td>\n",
       "      <td>0.29</td>\n",
       "      <td>0.058514</td>\n",
       "      <td>23567.20</td>\n",
       "      <td>9583.600937</td>\n",
       "      <td>199426744.0</td>\n",
       "    </tr>\n",
       "    <tr>\n",
       "      <th>5</th>\n",
       "      <td>0.75</td>\n",
       "      <td>0.19</td>\n",
       "      <td>0.046844</td>\n",
       "      <td>22094.25</td>\n",
       "      <td>9583.600937</td>\n",
       "      <td>191904782.0</td>\n",
       "    </tr>\n",
       "    <tr>\n",
       "      <th>4</th>\n",
       "      <td>0.70</td>\n",
       "      <td>0.14</td>\n",
       "      <td>0.038132</td>\n",
       "      <td>20621.30</td>\n",
       "      <td>9583.600937</td>\n",
       "      <td>182554420.0</td>\n",
       "    </tr>\n",
       "    <tr>\n",
       "      <th>3</th>\n",
       "      <td>0.65</td>\n",
       "      <td>0.11</td>\n",
       "      <td>0.030604</td>\n",
       "      <td>19148.35</td>\n",
       "      <td>9583.600937</td>\n",
       "      <td>172277992.0</td>\n",
       "    </tr>\n",
       "    <tr>\n",
       "      <th>2</th>\n",
       "      <td>0.60</td>\n",
       "      <td>0.09</td>\n",
       "      <td>0.023669</td>\n",
       "      <td>17675.40</td>\n",
       "      <td>9583.600937</td>\n",
       "      <td>161375330.0</td>\n",
       "    </tr>\n",
       "    <tr>\n",
       "      <th>1</th>\n",
       "      <td>0.55</td>\n",
       "      <td>0.07</td>\n",
       "      <td>0.018434</td>\n",
       "      <td>16202.45</td>\n",
       "      <td>9583.600937</td>\n",
       "      <td>149552926.0</td>\n",
       "    </tr>\n",
       "    <tr>\n",
       "      <th>0</th>\n",
       "      <td>0.50</td>\n",
       "      <td>0.06</td>\n",
       "      <td>0.016120</td>\n",
       "      <td>14729.50</td>\n",
       "      <td>9583.600937</td>\n",
       "      <td>136610537.0</td>\n",
       "    </tr>\n",
       "  </tbody>\n",
       "</table>\n",
       "</div>"
      ],
      "text/plain": [
       "   acceptance_rates  thresholds  bad_rates  number_accepted_loans  \\\n",
       "8              0.90        0.98   0.130389               26513.10   \n",
       "7              0.85        0.85   0.082122               25040.15   \n",
       "6              0.80        0.29   0.058514               23567.20   \n",
       "5              0.75        0.19   0.046844               22094.25   \n",
       "4              0.70        0.14   0.038132               20621.30   \n",
       "3              0.65        0.11   0.030604               19148.35   \n",
       "2              0.60        0.09   0.023669               17675.40   \n",
       "1              0.55        0.07   0.018434               16202.45   \n",
       "0              0.50        0.06   0.016120               14729.50   \n",
       "\n",
       "   average_loan_amnt  total_value  \n",
       "8        9583.600937  187829764.0  \n",
       "7        9583.600937  200560506.0  \n",
       "6        9583.600937  199426744.0  \n",
       "5        9583.600937  191904782.0  \n",
       "4        9583.600937  182554420.0  \n",
       "3        9583.600937  172277992.0  \n",
       "2        9583.600937  161375330.0  \n",
       "1        9583.600937  149552926.0  \n",
       "0        9583.600937  136610537.0  "
      ]
     },
     "execution_count": 179,
     "metadata": {},
     "output_type": "execute_result"
    }
   ],
   "source": [
    "# computing threshold for different loan acceptance rates (i.e. accept 70% of all loans) and corresponding total value\n",
    "acceptance_rates=np.arange(0.5, 0.95, 0.05)\n",
    "thresholds=[]\n",
    "bad_rates=[]\n",
    "thresh_eva=pd.DataFrame({\"default_probs\" : gbt_proba[:,1],\n",
    "                        \"true_loan_status\" : y_test})\n",
    "\n",
    "for rate in acceptance_rates:\n",
    "    threshold=round(np.quantile(gbt_proba[:,1],rate),2)\n",
    "    thresholds.append(threshold)\n",
    "    thresh_eva[\"loan_status\"]=thresh_eva[\"default_probs\"].apply(lambda x: 1 if x>threshold else 0)\n",
    "    accepted_loans=thresh_eva[thresh_eva[\"loan_status\"]==0]\n",
    "    bad_rate=np.sum(accepted_loans[\"true_loan_status\"])/accepted_loans[\"true_loan_status\"].count()\n",
    "    bad_rates.append(bad_rate)\n",
    "\n",
    "df=pd.DataFrame(zip(acceptance_rates,thresholds,bad_rates),columns=[\"acceptance_rates\",\"thresholds\",\"bad_rates\"]).sort_values(\"acceptance_rates\",ascending=False)\n",
    "\n",
    "number_total_loans=len(data)\n",
    "df[\"number_accepted_loans\"]=df[\"acceptance_rates\"]*number_total_loans\n",
    "df[\"average_loan_amnt\"]=data[\"loan_amnt\"].mean()\n",
    "df[\"total_value\"]=round(((1-df[\"bad_rates\"])*df[\"number_accepted_loans\"]*df[\"average_loan_amnt\"])-(df[\"bad_rates\"]*df[\"number_accepted_loans\"]*df[\"average_loan_amnt\"]),0)\n",
    "df"
   ]
  },
  {
   "cell_type": "code",
   "execution_count": 194,
   "id": "73e362d2-3bef-4a96-a19d-b458095c6de2",
   "metadata": {},
   "outputs": [
    {
     "data": {
      "image/png": "[encoded data removed]",
      "text/plain": [
       "<Figure size 640x480 with 1 Axes>"
      ]
     },
     "metadata": {},
     "output_type": "display_data"
    }
   ],
   "source": [
    "# determing acceptance rate with max. total value\n",
    "sns.set_style(\"darkgrid\")\n",
    "sns.lineplot(data=df, y=df[\"total_value\"], x=df[\"acceptance_rates\"])\n",
    "plt.xlabel(\"acceptance rate [%]\",fontsize=\"large\")\n",
    "plt.ylabel(f\"total vale [million euros]\",fontsize=\"large\")\n",
    "plt.show()"
   ]
  },
  {
   "cell_type": "code",
   "execution_count": 192,
   "id": "47b4b178-bee2-4343-b315-8316f1622c65",
   "metadata": {},
   "outputs": [
    {
     "name": "stdout",
     "output_type": "stream",
     "text": [
      "The highest total value of 200.56 million euros is reached at a loan acceptance rate of 0.85%.\n"
     ]
    }
   ],
   "source": [
    "max_value = df[df[\"total_value\"] == df[\"total_value\"].max()]\n",
    "max_value\n",
    "print(f\"The highest total value of {max_value.iloc[0][\"total_value\"]/1000000:.2f} million euros is reached at a loan acceptance rate of {max_value.iloc[0][\"acceptance_rates\"]:.2f}%.\")"
   ]
  }
 ],
 "metadata": {
  "kernelspec": {
   "display_name": "Python 3 (ipykernel)",
   "language": "python",
   "name": "python3"
  },
  "language_info": {
   "codemirror_mode": {
    "name": "ipython",
    "version": 3
   },
   "file_extension": ".py",
   "mimetype": "text/x-python",
   "name": "python",
   "nbconvert_exporter": "python",
   "pygments_lexer": "ipython3",
   "version": "3.12.7"
  }
 },
 "nbformat": 4,
 "nbformat_minor": 5
}
